{
  "nbformat": 4,
  "nbformat_minor": 0,
  "metadata": {
    "colab": {
      "name": "Natural Language Processing (NLP) With Recurrent Neural Network (RNN) - .ipynb",
      "provenance": [],
      "collapsed_sections": [],
      "toc_visible": true
    },
    "kernelspec": {
      "name": "python3",
      "display_name": "Python 3"
    },
    "language_info": {
      "name": "python"
    }
  },
  "cells": [
    {
      "cell_type": "markdown",
      "metadata": {
        "id": "qafh4ESXE9vK"
      },
      "source": [
        "# Natural Language Processing (NLP)\n",
        "\n",
        "Natural Language Processing (or NLP for short) is a disipline in computing that deals with the communication between natural (human) languages and computer languages. "
      ]
    },
    {
      "cell_type": "markdown",
      "metadata": {
        "id": "Z4O6WlOaQY_1"
      },
      "source": [
        "[*Pedro St Clair*](http://github.com/pedrostclair)"
      ]
    },
    {
      "cell_type": "markdown",
      "metadata": {
        "id": "stk2s271Cwvm"
      },
      "source": [
        "##Introduction\n",
        "\n",
        "NLP, is essentially the field that focuses on how computers can understand and/or process natural/human languages. Common examples of NLP include useful tools we take for granted these days, such as: autocomplete or spellcheck.\n",
        "\n",
        " "
      ]
    },
    {
      "cell_type": "markdown",
      "metadata": {
        "id": "9nMGU3rn5oHj"
      },
      "source": [
        "##Recursive Neural Networks\n",
        "\n",
        "We will introduce a 'new' kind of neural network, one that is much is much more capable of processing sequential data such as text or characters called a recurrent neural network (RNN for short).\n",
        "\n",
        "We will use a recurrent neural network to do the following:\n",
        "\n",
        "    Sentiment Analysis\n",
        "    Character Generation\n",
        "\n",
        "RNN's are rather complex, and come in a variety of different forms. For now, the focus is merely how they work and what they are best suited for."
      ]
    },
    {
      "cell_type": "markdown",
      "metadata": {
        "id": "Me00XR2e6Kjb"
      },
      "source": [
        "##Sequence Data\n",
        "\n",
        "We look closer at sequences of text and learn how we can encode them in a meaningful way. Unlike images, sequence data such as: 'long chains of text', 'weather-patterns', videos and practically anything - where the notion of a step - or time - is relevant. This is processed, and handled, in a special way. But what is meant by 'sequences'? And why on earth is 'text data' a 'sequence'? One might often ponder. Well, Textual data, it seems, contains many words that follow a very specific and meaningful order. The abilty to keep track of each word, and when it occurs in the data, is required. Encoding an entire of text into one data point wouldn't provide a very meaningful picture of the data, and would very difficult to do anything with. The aim, is to Keep track of where each of these words appear , and use that information to try to understand the meaning of pieces of text. "
      ]
    },
    {
      "cell_type": "markdown",
      "metadata": {
        "id": "hfoaTgJr6YVh"
      },
      "source": [
        "##Encoding Text\n",
        "\n",
        "Machine learning models and neural networks don't take raw data as an input. A means to encode textual data to numeric values is required, so that the models can understand. Fortunately, a few methods do exist. We look at an example below.\n",
        "\n",
        "Let's understand the information we can get from textual data by looking at the following two movie reviews:\n",
        "\n",
        " \n",
        " \n",
        " \n",
        " \n",
        " \n",
        " `I thought the movie was going to be bad, but it was actually amazing!`\n",
        "\n",
        "\n",
        " `I thought the movie was going to be amazing, but it was actually bad!`\n",
        "\n",
        "\n",
        "\n",
        "\n",
        "\n",
        "The two sentences above are very similar, but we know they have two different meanings.\n",
        "\n",
        "This is largely thanks to **ordering** of words, a vital property of textual data.\n",
        "\n",
        "We will keep this in mind as we consider various ways of encoding textual data.\n",
        "\n",
        "\n",
        "\n",
        "\n"
      ]
    },
    {
      "cell_type": "markdown",
      "metadata": {
        "id": "4SJ8t4Uq8azN"
      },
      "source": [
        "### Bag of Words\n",
        "The first and the simplest way to encode our data is to use something called **`bag_of_words`**\n",
        "It's an easy technique where each word in a sentence is encoded with an interger and thrown into a collection that does not maintain the order of words but does keep track of the frequency.\n",
        "The python function below encodes a string of text into a **`bag_of_words`**."
      ]
    },
    {
      "cell_type": "markdown",
      "metadata": {
        "id": "5e_TW6MPEhGB"
      },
      "source": [
        "#### Setup"
      ]
    },
    {
      "cell_type": "code",
      "metadata": {
        "id": "mhQXORR-Ecx6"
      },
      "source": [
        "import tensorflow as tf\n",
        "import keras\n",
        "import sys\n",
        "from sys import exit"
      ],
      "execution_count": null,
      "outputs": []
    },
    {
      "cell_type": "markdown",
      "metadata": {
        "id": "ewfHdG489neN"
      },
      "source": [
        "#### Define 'text' and 'bag'"
      ]
    },
    {
      "cell_type": "code",
      "metadata": {
        "id": "ZQS5uRG29i3L"
      },
      "source": [
        "text = \"Oh , A cup of rooi bos tea ? What a marvelous idea !\" # Throwing punctuation in the bag? Leave a space between words\n",
        "bag = bag_of_words(text)\n"
      ],
      "execution_count": null,
      "outputs": []
    },
    {
      "cell_type": "markdown",
      "metadata": {
        "id": "qnY4f4Uo-NIX"
      },
      "source": [
        "#### Encode textual data"
      ]
    },
    {
      "cell_type": "code",
      "metadata": {
        "colab": {
          "base_uri": "https://localhost:8080/"
        },
        "id": "hqCGp-cO8kKi",
        "outputId": "858b450b-560e-4b94-838a-6a27ab9a8683"
      },
      "source": [
        "vocab = {} #maps word to integer representing it\n",
        "word_encoding = 1\n",
        "def bag_of_words(text):\n",
        "  global word_encoding\n",
        "\n",
        "words = text.lower().split(\" \") # create a list of all the words in the text.\n",
        "bag = {} # stores all of the encoding and their frequency\n",
        "\n",
        "for word in words:\n",
        "  if word in vocab:\n",
        "    encoding = vocab[word] # get encoding from vocab\n",
        "  else:\n",
        "    vocab[word] = word_encoding\n",
        "    encoding = word_encoding\n",
        "    word_encoding += 1\n",
        "\n",
        "  if encoding in bag:\n",
        "    bag[encoding] += 1\n",
        "  else:\n",
        "      bag[encoding] = 1\n",
        "\n",
        "# ' return bag ' statement removed\n",
        "# the return statement was removed, as it returned an 'outside function' error.\n",
        "# Syntactically, 'return statements' only make sense within a function, example:\n",
        "#\n",
        "#   \n",
        "#   def foo():\n",
        "#    while True:\n",
        "#        return False\n",
        "#\n",
        "# for more --> https://stackoverflow.com/questions/7842120/python-return-statement-error-return-outside-function\n",
        "\n",
        "\n",
        "\n",
        "\n",
        "text1 = \" Yes we know who Morgan Freeman is, and his contribution to the arts . \" # Throwing punctuation in the bag? Leave a space between words\n",
        "text2 = \" However , that movie was horrid, and then the inquisition just barging in like that ? We demand a refund ! \"\n",
        "text = text1 + text2\n",
        "bag = bag_of_words(text)\n",
        "print(vocab)\n",
        "print(bag)\n",
        "\n"
      ],
      "execution_count": null,
      "outputs": [
        {
          "output_type": "stream",
          "name": "stdout",
          "text": [
            "{'': 1, 'yes': 2, 'we': 3, 'know': 4, 'who': 5, 'morgan': 6, 'freeman': 7, 'is,': 8, 'and': 9, 'his': 10, 'contribution': 11, 'to': 12, 'the': 13, 'arts': 14, '.': 15, 'however': 16, ',': 17, 'that': 18, 'movie': 19, 'was': 20, 'horrid,': 21, 'then': 22, 'inquisition': 23, 'just': 24, 'barging': 25, 'in': 26, 'like': 27, '?': 28, 'demand': 29, 'a': 30, 'refund': 31, '!': 32}\n",
            "None\n"
          ]
        }
      ]
    },
    {
      "cell_type": "markdown",
      "metadata": {
        "id": "1rBLqOT2HjCU"
      },
      "source": [
        "# References"
      ]
    },
    {
      "cell_type": "markdown",
      "metadata": {
        "id": "jR7HJlgaHXod"
      },
      "source": [
        "### 1. NLP FreeCodeCamp Curriculum\n",
        "\"https://www.freecodecamp.org/learn/machine-learning-with-python/tensorflow/natural-language-processing-with-rnns\""
      ]
    },
    {
      "cell_type": "markdown",
      "metadata": {
        "id": "owx3uWcDHkGM"
      },
      "source": [
        "\n",
        "### 2. Return Statements\n",
        "\"https://stackoverflow.com/questions/7842120/python-return-statement-error-return-outside-function\""
      ]
    }
  ]
}
